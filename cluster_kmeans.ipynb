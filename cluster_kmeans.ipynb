{
  "nbformat": 4,
  "nbformat_minor": 0,
  "metadata": {
    "colab": {
      "provenance": [],
      "toc_visible": true,
      "authorship_tag": "ABX9TyPV3eNdoceUPQrQMCaqF0c3",
      "include_colab_link": true
    },
    "kernelspec": {
      "name": "python3",
      "display_name": "Python 3"
    },
    "language_info": {
      "name": "python"
    }
  },
  "cells": [
    {
      "cell_type": "markdown",
      "metadata": {
        "id": "view-in-github",
        "colab_type": "text"
      },
      "source": [
        "<a href=\"https://colab.research.google.com/github/DerMilchShake/cluster/blob/main/cluster_kmeans.ipynb\" target=\"_parent\"><img src=\"https://colab.research.google.com/assets/colab-badge.svg\" alt=\"Open In Colab\"/></a>"
      ]
    },
    {
      "cell_type": "markdown",
      "source": [
        "# **K-Means-Clustering**"
      ],
      "metadata": {
        "id": "3Y4bVn1dHHCl"
      }
    },
    {
      "cell_type": "markdown",
      "source": [
        "# **1. Bibliothek importieren**\n",
        "\n",
        "Importieren der benötigten Programmbibliotheken:\n",
        "\n",
        "\n",
        "\n",
        "*   Matlplotlib (Visualisierung der Plots)\n",
        "*   Seaborn (Erweiterung von matplotlib)\n",
        "* NumPy (Umgang mit Vektoren, Matrizen, Arrays)\n",
        "* Pandas (Datenverwaltung)\n",
        "* scipy.cluster.hierarchy (hierarchisches Verfahren)\n",
        "* KMeans (partitionierendes Verfahren)\n",
        "* AgglomerativeClustering (hierarchisches Verfahren)\n",
        "\n"
      ],
      "metadata": {
        "id": "jsFrNaz3vy6k"
      }
    },
    {
      "cell_type": "code",
      "execution_count": 1,
      "metadata": {
        "id": "lfm8Uwqsvu3O"
      },
      "outputs": [],
      "source": [
        " import matplotlib.pyplot as plt   \n",
        " import seaborn as sns; sns.set()  \n",
        " import numpy as np  \n",
        " import pandas as pd \n",
        " import scipy.cluster.hierarchy as shc  \n",
        " from sklearn.cluster import KMeans \n",
        " from sklearn.cluster import AgglomerativeClustering \n",
        " %matplotlib inline"
      ]
    },
    {
      "cell_type": "markdown",
      "source": [
        "# **2. Daten einlesen und anzeigen**\n",
        "\n",
        "Daten aus der .csv Datei werden mit der Pandas Bibliothek eingelesen und angezeigt."
      ],
      "metadata": {
        "id": "1yrHDvXVwI51"
      }
    },
    {
      "cell_type": "code",
      "source": [
        " # Lese CSV-Datei mit Werten zur Clusteranalyse aus Github ein\n",
        " # in dem Fall: Raumklima-Datensatz mit Temperatur/Feuchtigkeit\n",
        " url = 'https://raw.githubusercontent.com/DerMilchShake/cluster/main/raumklima.csv'\n",
        " klima_data = pd.read_csv(url,sep=';', header=0)  \n",
        " \n",
        " # Merkmale/Variablen Feuchtigk. und Temp. separat speichern\n",
        " X = klima_data.iloc[:,[0,1]].copy() \n",
        " \n",
        " # Wahre Zuordnung zu den Kategorien speichern\n",
        " cluster_true=klima_data.iloc[:,2].copy() \n",
        " \n",
        " # Zeige ausgewählte Zeilen zur Kontrolle an \n",
        " klima_data.head(10)"
      ],
      "metadata": {
        "id": "d0jNcc0IwOLD",
        "colab": {
          "base_uri": "https://localhost:8080/",
          "height": 359
        },
        "outputId": "f2812411-dfb7-4a4a-b8cc-68ce76333e64"
      },
      "execution_count": 2,
      "outputs": [
        {
          "output_type": "execute_result",
          "data": {
            "text/plain": [
              "   Feuchte  Temp    Cluster\n",
              "0       42    21  behaglich\n",
              "1       45    19  behaglich\n",
              "2       52    19  behaglich\n",
              "3       55    21  behaglich\n",
              "4       53    22  behaglich\n",
              "5       69    23  zu feucht\n",
              "6       80    21  zu feucht\n",
              "7       81    23  zu feucht\n",
              "8       73    25  zu feucht\n",
              "9       75    25  zu feucht"
            ],
            "text/html": [
              "\n",
              "  <div id=\"df-9ba61b66-d8c8-4187-af9a-78b3798c5ef2\">\n",
              "    <div class=\"colab-df-container\">\n",
              "      <div>\n",
              "<style scoped>\n",
              "    .dataframe tbody tr th:only-of-type {\n",
              "        vertical-align: middle;\n",
              "    }\n",
              "\n",
              "    .dataframe tbody tr th {\n",
              "        vertical-align: top;\n",
              "    }\n",
              "\n",
              "    .dataframe thead th {\n",
              "        text-align: right;\n",
              "    }\n",
              "</style>\n",
              "<table border=\"1\" class=\"dataframe\">\n",
              "  <thead>\n",
              "    <tr style=\"text-align: right;\">\n",
              "      <th></th>\n",
              "      <th>Feuchte</th>\n",
              "      <th>Temp</th>\n",
              "      <th>Cluster</th>\n",
              "    </tr>\n",
              "  </thead>\n",
              "  <tbody>\n",
              "    <tr>\n",
              "      <th>0</th>\n",
              "      <td>42</td>\n",
              "      <td>21</td>\n",
              "      <td>behaglich</td>\n",
              "    </tr>\n",
              "    <tr>\n",
              "      <th>1</th>\n",
              "      <td>45</td>\n",
              "      <td>19</td>\n",
              "      <td>behaglich</td>\n",
              "    </tr>\n",
              "    <tr>\n",
              "      <th>2</th>\n",
              "      <td>52</td>\n",
              "      <td>19</td>\n",
              "      <td>behaglich</td>\n",
              "    </tr>\n",
              "    <tr>\n",
              "      <th>3</th>\n",
              "      <td>55</td>\n",
              "      <td>21</td>\n",
              "      <td>behaglich</td>\n",
              "    </tr>\n",
              "    <tr>\n",
              "      <th>4</th>\n",
              "      <td>53</td>\n",
              "      <td>22</td>\n",
              "      <td>behaglich</td>\n",
              "    </tr>\n",
              "    <tr>\n",
              "      <th>5</th>\n",
              "      <td>69</td>\n",
              "      <td>23</td>\n",
              "      <td>zu feucht</td>\n",
              "    </tr>\n",
              "    <tr>\n",
              "      <th>6</th>\n",
              "      <td>80</td>\n",
              "      <td>21</td>\n",
              "      <td>zu feucht</td>\n",
              "    </tr>\n",
              "    <tr>\n",
              "      <th>7</th>\n",
              "      <td>81</td>\n",
              "      <td>23</td>\n",
              "      <td>zu feucht</td>\n",
              "    </tr>\n",
              "    <tr>\n",
              "      <th>8</th>\n",
              "      <td>73</td>\n",
              "      <td>25</td>\n",
              "      <td>zu feucht</td>\n",
              "    </tr>\n",
              "    <tr>\n",
              "      <th>9</th>\n",
              "      <td>75</td>\n",
              "      <td>25</td>\n",
              "      <td>zu feucht</td>\n",
              "    </tr>\n",
              "  </tbody>\n",
              "</table>\n",
              "</div>\n",
              "      <button class=\"colab-df-convert\" onclick=\"convertToInteractive('df-9ba61b66-d8c8-4187-af9a-78b3798c5ef2')\"\n",
              "              title=\"Convert this dataframe to an interactive table.\"\n",
              "              style=\"display:none;\">\n",
              "        \n",
              "  <svg xmlns=\"http://www.w3.org/2000/svg\" height=\"24px\"viewBox=\"0 0 24 24\"\n",
              "       width=\"24px\">\n",
              "    <path d=\"M0 0h24v24H0V0z\" fill=\"none\"/>\n",
              "    <path d=\"M18.56 5.44l.94 2.06.94-2.06 2.06-.94-2.06-.94-.94-2.06-.94 2.06-2.06.94zm-11 1L8.5 8.5l.94-2.06 2.06-.94-2.06-.94L8.5 2.5l-.94 2.06-2.06.94zm10 10l.94 2.06.94-2.06 2.06-.94-2.06-.94-.94-2.06-.94 2.06-2.06.94z\"/><path d=\"M17.41 7.96l-1.37-1.37c-.4-.4-.92-.59-1.43-.59-.52 0-1.04.2-1.43.59L10.3 9.45l-7.72 7.72c-.78.78-.78 2.05 0 2.83L4 21.41c.39.39.9.59 1.41.59.51 0 1.02-.2 1.41-.59l7.78-7.78 2.81-2.81c.8-.78.8-2.07 0-2.86zM5.41 20L4 18.59l7.72-7.72 1.47 1.35L5.41 20z\"/>\n",
              "  </svg>\n",
              "      </button>\n",
              "      \n",
              "  <style>\n",
              "    .colab-df-container {\n",
              "      display:flex;\n",
              "      flex-wrap:wrap;\n",
              "      gap: 12px;\n",
              "    }\n",
              "\n",
              "    .colab-df-convert {\n",
              "      background-color: #E8F0FE;\n",
              "      border: none;\n",
              "      border-radius: 50%;\n",
              "      cursor: pointer;\n",
              "      display: none;\n",
              "      fill: #1967D2;\n",
              "      height: 32px;\n",
              "      padding: 0 0 0 0;\n",
              "      width: 32px;\n",
              "    }\n",
              "\n",
              "    .colab-df-convert:hover {\n",
              "      background-color: #E2EBFA;\n",
              "      box-shadow: 0px 1px 2px rgba(60, 64, 67, 0.3), 0px 1px 3px 1px rgba(60, 64, 67, 0.15);\n",
              "      fill: #174EA6;\n",
              "    }\n",
              "\n",
              "    [theme=dark] .colab-df-convert {\n",
              "      background-color: #3B4455;\n",
              "      fill: #D2E3FC;\n",
              "    }\n",
              "\n",
              "    [theme=dark] .colab-df-convert:hover {\n",
              "      background-color: #434B5C;\n",
              "      box-shadow: 0px 1px 3px 1px rgba(0, 0, 0, 0.15);\n",
              "      filter: drop-shadow(0px 1px 2px rgba(0, 0, 0, 0.3));\n",
              "      fill: #FFFFFF;\n",
              "    }\n",
              "  </style>\n",
              "\n",
              "      <script>\n",
              "        const buttonEl =\n",
              "          document.querySelector('#df-9ba61b66-d8c8-4187-af9a-78b3798c5ef2 button.colab-df-convert');\n",
              "        buttonEl.style.display =\n",
              "          google.colab.kernel.accessAllowed ? 'block' : 'none';\n",
              "\n",
              "        async function convertToInteractive(key) {\n",
              "          const element = document.querySelector('#df-9ba61b66-d8c8-4187-af9a-78b3798c5ef2');\n",
              "          const dataTable =\n",
              "            await google.colab.kernel.invokeFunction('convertToInteractive',\n",
              "                                                     [key], {});\n",
              "          if (!dataTable) return;\n",
              "\n",
              "          const docLinkHtml = 'Like what you see? Visit the ' +\n",
              "            '<a target=\"_blank\" href=https://colab.research.google.com/notebooks/data_table.ipynb>data table notebook</a>'\n",
              "            + ' to learn more about interactive tables.';\n",
              "          element.innerHTML = '';\n",
              "          dataTable['output_type'] = 'display_data';\n",
              "          await google.colab.output.renderOutput(dataTable, element);\n",
              "          const docLink = document.createElement('div');\n",
              "          docLink.innerHTML = docLinkHtml;\n",
              "          element.appendChild(docLink);\n",
              "        }\n",
              "      </script>\n",
              "    </div>\n",
              "  </div>\n",
              "  "
            ]
          },
          "metadata": {},
          "execution_count": 2
        }
      ]
    },
    {
      "cell_type": "markdown",
      "source": [
        "# **3. Daten visualisieren**\n",
        "\n",
        "Daten werden in Array konvertiert und mit der Matplotlib-Bibliothek als Streudiagramm dargestellt."
      ],
      "metadata": {
        "id": "aDkE9hDJ36zk"
      }
    },
    {
      "cell_type": "code",
      "source": [
        " X = np.array(X) # Typkonvertierung: DataFrame->Array  \n",
        " print(type(X))  \n",
        " # Daten visualisieren  \n",
        " plt.scatter(X[:,0], X[:,1],s=40);  \n",
        " plt.title('Raumklima-Daten als Scatter-Plot')  \n",
        " plt.xlabel('Feuchtigkeit (%)');plt.ylabel('Temperatur ()'); "
      ],
      "metadata": {
        "id": "cqLYLZQY4Du7",
        "colab": {
          "base_uri": "https://localhost:8080/",
          "height": 318
        },
        "outputId": "2a34f118-8121-4cb1-a117-8efbba693b81"
      },
      "execution_count": 3,
      "outputs": [
        {
          "output_type": "stream",
          "name": "stdout",
          "text": [
            "<class 'numpy.ndarray'>\n"
          ]
        },
        {
          "output_type": "display_data",
          "data": {
            "text/plain": [
              "<Figure size 432x288 with 1 Axes>"
            ],
            "image/png": "[encoded data removed]"
          },
          "metadata": {
            "needs_background": "light"
          }
        }
      ]
    },
    {
      "cell_type": "markdown",
      "source": [
        "# **4. Clusteranalyse durchführen**\n",
        "\n",
        "Clusteranalyse wird mittels der scikit-learn Bibliothek durchgeführt.\n",
        "Mit kmeans wird die Anzahl der Cluster festgelegt. \n",
        "Ausgegeben wird der Index dex Clusters (0, 1, 2)."
      ],
      "metadata": {
        "id": "CCTimWJC4Ua3"
      }
    },
    {
      "cell_type": "code",
      "source": [
        " #Anzahl der Zentren festlegen\n",
        " kmeans = KMeans(n_clusters=3) \n",
        " \n",
        " # Vorhersage mittels K-Means-Verfahren\n",
        " kmeans.fit(X)\n",
        " y_kmeans = kmeans.predict(X)\n",
        " \n",
        " # vorhergesagte Zuordnungen der Merkmalskombinationen zu den geschätzten Zentren\n",
        " y_kmeans"
      ],
      "metadata": {
        "id": "8rSvhhTT4mpP",
        "colab": {
          "base_uri": "https://localhost:8080/"
        },
        "outputId": "b93dd299-94fc-40e1-eb37-0d5e1336587c"
      },
      "execution_count": 6,
      "outputs": [
        {
          "output_type": "execute_result",
          "data": {
            "text/plain": [
              "array([0, 0, 0, 0, 0, 2, 2, 2, 2, 2, 1, 1, 1, 1, 1], dtype=int32)"
            ]
          },
          "metadata": {},
          "execution_count": 6
        }
      ]
    },
    {
      "cell_type": "markdown",
      "source": [
        "# **5. Zuordnung der Daten zu den Clustern visualisieren**\n",
        "\n",
        "Zuordnungen der Beobachtunfen zu den vorher festgelegten 3 Clustern wird als Plot dargestellt."
      ],
      "metadata": {
        "id": "WfAPQYOJ4t2b"
      }
    },
    {
      "cell_type": "code",
      "source": [
        " # Daten visualisieren: Merkmale\n",
        " plt.scatter(X[:, 0], X[:, 1], c=y_kmeans, s=40, cmap='magma')\n",
        " \n",
        " # Daten visualisieren: Zentren\n",
        " centers = kmeans.cluster_centers_\n",
        " plt.scatter(centers[:, 0], centers[:, 1], c='black', s=60, alpha=0.7);\n",
        " \n",
        " plt.title(\"Raumklima\")\n",
        " plt.xlabel('Feuchtigkeit (%)');plt.ylabel('Temperatur ()'); \n",
        " \n",
        " # Merkmalswerte der Zentren ausgeben\n",
        " print('Merkmalswerte der Zentren:')  \n",
        " print(centers)  "
      ],
      "metadata": {
        "id": "IdqbUvKm40yb",
        "colab": {
          "base_uri": "https://localhost:8080/",
          "height": 369
        },
        "outputId": "ef7ae5e5-5eaf-495d-a3c5-bd2a174f714e"
      },
      "execution_count": 7,
      "outputs": [
        {
          "output_type": "stream",
          "name": "stdout",
          "text": [
            "Merkmalswerte der Zentren:\n",
            "[[49.4 20.4]\n",
            " [25.  15. ]\n",
            " [75.6 23.4]]\n"
          ]
        },
        {
          "output_type": "display_data",
          "data": {
            "text/plain": [
              "<Figure size 432x288 with 1 Axes>"
            ],
            "image/png": "[encoded data removed]"
          },
          "metadata": {
            "needs_background": "light"
          }
        }
      ]
    }
  ]
}