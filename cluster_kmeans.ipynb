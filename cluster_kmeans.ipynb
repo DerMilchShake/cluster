{
  "nbformat": 4,
  "nbformat_minor": 0,
  "metadata": {
    "colab": {
      "provenance": [],
      "toc_visible": true,
      "authorship_tag": "ABX9TyM8ahyn9HRAQXcou/ECGe+b",
      "include_colab_link": true
    },
    "kernelspec": {
      "name": "python3",
      "display_name": "Python 3"
    },
    "language_info": {
      "name": "python"
    }
  },
  "cells": [
    {
      "cell_type": "markdown",
      "metadata": {
        "id": "view-in-github",
        "colab_type": "text"
      },
      "source": [
        "<a href=\"https://colab.research.google.com/github/DerMilchShake/cluster/blob/main/cluster_kmeans.ipynb\" target=\"_parent\"><img src=\"https://colab.research.google.com/assets/colab-badge.svg\" alt=\"Open In Colab\"/></a>"
      ]
    },
    {
      "cell_type": "markdown",
      "source": [
        "# **1. Bibliothek importieren**"
      ],
      "metadata": {
        "id": "jsFrNaz3vy6k"
      }
    },
    {
      "cell_type": "code",
      "execution_count": null,
      "metadata": {
        "id": "lfm8Uwqsvu3O"
      },
      "outputs": [],
      "source": [
        " import matplotlib.pyplot as plt   \n",
        " import seaborn as sns; sns.set()  \n",
        " import numpy as np  \n",
        " import pandas as pd \n",
        " import scipy.cluster.hierarchy as shc  \n",
        " from sklearn.cluster import KMeans \n",
        " from sklearn.cluster import AgglomerativeClustering \n",
        " %matplotlib inline"
      ]
    },
    {
      "cell_type": "markdown",
      "source": [
        "# **2. Daten einlesen und anzeigen**"
      ],
      "metadata": {
        "id": "1yrHDvXVwI51"
      }
    },
    {
      "cell_type": "code",
      "source": [
        " # Lese CSV-Datei aus Github ein\n",
        " url = 'https://raw.githubusercontent.com/DerMilchShake/cluster/main/raumklima.csv'\n",
        " klima_data = pd.read_csv(url,sep=';', header=0)  \n",
        " \n",
        " # Merkmale/Variablen Feuchtigk. und Temp. separat speichern\n",
        " X = klima_data.iloc[:,[0,1]].copy() \n",
        " \n",
        " # Wahre Zuordnung zu den Kategorien speichern\n",
        " cluster_true=klima_data.iloc[:,2].copy() \n",
        " \n",
        " # Zeige ausgewählte Zeilen zur Kontrolle an \n",
        " klima_data.head(10)"
      ],
      "metadata": {
        "id": "d0jNcc0IwOLD"
      },
      "execution_count": null,
      "outputs": []
    },
    {
      "cell_type": "markdown",
      "source": [
        "# **3. Daten visualisieren**"
      ],
      "metadata": {
        "id": "aDkE9hDJ36zk"
      }
    },
    {
      "cell_type": "code",
      "source": [
        " X = np.array(X) # Typkonvertierung: DataFrame->Array  \n",
        " print(type(X))  \n",
        " # Daten visualisieren  \n",
        " plt.scatter(X[:,0], X[:,1],s=40);  \n",
        " plt.title('Raumklima-Daten als Scatter-Plot')  \n",
        " plt.xlabel('Feuchtigkeit (%)');plt.ylabel('Temperatur ()'); "
      ],
      "metadata": {
        "id": "cqLYLZQY4Du7"
      },
      "execution_count": null,
      "outputs": []
    },
    {
      "cell_type": "markdown",
      "source": [
        "# **4. Clusteranalyse durchführen**"
      ],
      "metadata": {
        "id": "CCTimWJC4Ua3"
      }
    },
    {
      "cell_type": "code",
      "source": [
        " #Anzahl der Zentren festlegen\n",
        " kmeans = KMeans(n_clusters=2) \n",
        " \n",
        " # Vorhersage mittels K-Means-Verfahren\n",
        " kmeans.fit(X)\n",
        " y_kmeans = kmeans.predict(X)\n",
        " \n",
        " # vorhergesagte Zuordnungen der Merkmalskombinationen zu den geschätzten Zentren\n",
        " y_kmeans"
      ],
      "metadata": {
        "id": "8rSvhhTT4mpP"
      },
      "execution_count": null,
      "outputs": []
    },
    {
      "cell_type": "markdown",
      "source": [
        "# **5. Zuordnung der Daten zu den Clustern visualisieren**"
      ],
      "metadata": {
        "id": "WfAPQYOJ4t2b"
      }
    },
    {
      "cell_type": "code",
      "source": [
        " # Daten visualisieren: Merkmale\n",
        " plt.scatter(X[:, 0], X[:, 1], c=y_kmeans, s=40, cmap='magma')\n",
        " \n",
        " # Daten visualisieren: Zentren\n",
        " centers = kmeans.cluster_centers_\n",
        " plt.scatter(centers[:, 0], centers[:, 1], c='black', s=60, alpha=0.7);\n",
        " \n",
        " plt.title(\"Raumklima\")\n",
        " plt.xlabel('Feuchtigkeit (%)');plt.ylabel('Temperatur ()'); \n",
        " \n",
        " # Merkmalswerte der Zentren ausgeben\n",
        " print('Merkmalswerte der Zentren:')  \n",
        " print(centers)  "
      ],
      "metadata": {
        "id": "IdqbUvKm40yb"
      },
      "execution_count": null,
      "outputs": []
    }
  ]
}