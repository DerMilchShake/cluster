{
  "nbformat": 4,
  "nbformat_minor": 0,
  "metadata": {
    "colab": {
      "provenance": [],
      "authorship_tag": "ABX9TyM6jjpom+aL/RNAYaydg9n9",
      "include_colab_link": true
    },
    "kernelspec": {
      "name": "python3",
      "display_name": "Python 3"
    },
    "language_info": {
      "name": "python"
    }
  },
  "cells": [
    {
      "cell_type": "markdown",
      "metadata": {
        "id": "view-in-github",
        "colab_type": "text"
      },
      "source": [
        "<a href=\"https://colab.research.google.com/github/DerMilchShake/cluster/blob/main/hierarchisch.ipynb\" target=\"_parent\"><img src=\"https://colab.research.google.com/assets/colab-badge.svg\" alt=\"Open In Colab\"/></a>"
      ]
    },
    {
      "cell_type": "markdown",
      "source": [
        "# **1. Bibliothek importieren**\n",
        "\n"
      ],
      "metadata": {
        "id": "7vKuMRa-IWp2"
      }
    },
    {
      "cell_type": "code",
      "execution_count": 1,
      "metadata": {
        "id": "v9MUFyUtIFXi"
      },
      "outputs": [],
      "source": [
        " import matplotlib.pyplot as plt   \n",
        " import seaborn as sns; sns.set()  \n",
        " import numpy as np  \n",
        " import pandas as pd \n",
        " import scipy.cluster.hierarchy as shc  \n",
        " from sklearn.cluster import KMeans \n",
        " from sklearn.cluster import AgglomerativeClustering \n",
        " %matplotlib inline"
      ]
    },
    {
      "cell_type": "markdown",
      "source": [
        "# **2. Daten einlesen und anzeigen**"
      ],
      "metadata": {
        "id": "UAslEbqvIdA4"
      }
    },
    {
      "cell_type": "code",
      "source": [
        " # Lese CSV-Datei mit Werten zur Clusteranalyse aus Github ein\n",
        " # in dem Fall: Raumklima-Datensatz mit Temperatur/Feuchtigkeit\n",
        " url = 'https://raw.githubusercontent.com/DerMilchShake/cluster/main/raumklima.csv'\n",
        " klima_data = pd.read_csv(url,sep=';', header=0)  \n",
        " \n",
        " # Merkmale/Variablen Feuchtigk. und Temp. separat speichern\n",
        " X = klima_data.iloc[:,[0,1]].copy() \n",
        " \n",
        " # Wahre Zuordnung zu den Kategorien speichern\n",
        " cluster_true=klima_data.iloc[:,2].copy() \n",
        " \n",
        " # Zeige ausgewählte Zeilen zur Kontrolle an \n",
        " klima_data.head(10)"
      ],
      "metadata": {
        "colab": {
          "base_uri": "https://localhost:8080/",
          "height": 359
        },
        "id": "ETDlUsYTIkE9",
        "outputId": "6feb7027-9f2a-48d3-c90d-b99122d718f4"
      },
      "execution_count": 2,
      "outputs": [
        {
          "output_type": "execute_result",
          "data": {
            "text/plain": [
              "   Feuchte  Temp    Cluster\n",
              "0       42    21  behaglich\n",
              "1       45    19  behaglich\n",
              "2       52    19  behaglich\n",
              "3       55    21  behaglich\n",
              "4       53    22  behaglich\n",
              "5       69    23  zu feucht\n",
              "6       80    21  zu feucht\n",
              "7       81    23  zu feucht\n",
              "8       73    25  zu feucht\n",
              "9       75    25  zu feucht"
            ],
            "text/html": [
              "\n",
              "  <div id=\"df-994466f6-84ed-46fa-a927-56d434c58612\">\n",
              "    <div class=\"colab-df-container\">\n",
              "      <div>\n",
              "<style scoped>\n",
              "    .dataframe tbody tr th:only-of-type {\n",
              "        vertical-align: middle;\n",
              "    }\n",
              "\n",
              "    .dataframe tbody tr th {\n",
              "        vertical-align: top;\n",
              "    }\n",
              "\n",
              "    .dataframe thead th {\n",
              "        text-align: right;\n",
              "    }\n",
              "</style>\n",
              "<table border=\"1\" class=\"dataframe\">\n",
              "  <thead>\n",
              "    <tr style=\"text-align: right;\">\n",
              "      <th></th>\n",
              "      <th>Feuchte</th>\n",
              "      <th>Temp</th>\n",
              "      <th>Cluster</th>\n",
              "    </tr>\n",
              "  </thead>\n",
              "  <tbody>\n",
              "    <tr>\n",
              "      <th>0</th>\n",
              "      <td>42</td>\n",
              "      <td>21</td>\n",
              "      <td>behaglich</td>\n",
              "    </tr>\n",
              "    <tr>\n",
              "      <th>1</th>\n",
              "      <td>45</td>\n",
              "      <td>19</td>\n",
              "      <td>behaglich</td>\n",
              "    </tr>\n",
              "    <tr>\n",
              "      <th>2</th>\n",
              "      <td>52</td>\n",
              "      <td>19</td>\n",
              "      <td>behaglich</td>\n",
              "    </tr>\n",
              "    <tr>\n",
              "      <th>3</th>\n",
              "      <td>55</td>\n",
              "      <td>21</td>\n",
              "      <td>behaglich</td>\n",
              "    </tr>\n",
              "    <tr>\n",
              "      <th>4</th>\n",
              "      <td>53</td>\n",
              "      <td>22</td>\n",
              "      <td>behaglich</td>\n",
              "    </tr>\n",
              "    <tr>\n",
              "      <th>5</th>\n",
              "      <td>69</td>\n",
              "      <td>23</td>\n",
              "      <td>zu feucht</td>\n",
              "    </tr>\n",
              "    <tr>\n",
              "      <th>6</th>\n",
              "      <td>80</td>\n",
              "      <td>21</td>\n",
              "      <td>zu feucht</td>\n",
              "    </tr>\n",
              "    <tr>\n",
              "      <th>7</th>\n",
              "      <td>81</td>\n",
              "      <td>23</td>\n",
              "      <td>zu feucht</td>\n",
              "    </tr>\n",
              "    <tr>\n",
              "      <th>8</th>\n",
              "      <td>73</td>\n",
              "      <td>25</td>\n",
              "      <td>zu feucht</td>\n",
              "    </tr>\n",
              "    <tr>\n",
              "      <th>9</th>\n",
              "      <td>75</td>\n",
              "      <td>25</td>\n",
              "      <td>zu feucht</td>\n",
              "    </tr>\n",
              "  </tbody>\n",
              "</table>\n",
              "</div>\n",
              "      <button class=\"colab-df-convert\" onclick=\"convertToInteractive('df-994466f6-84ed-46fa-a927-56d434c58612')\"\n",
              "              title=\"Convert this dataframe to an interactive table.\"\n",
              "              style=\"display:none;\">\n",
              "        \n",
              "  <svg xmlns=\"http://www.w3.org/2000/svg\" height=\"24px\"viewBox=\"0 0 24 24\"\n",
              "       width=\"24px\">\n",
              "    <path d=\"M0 0h24v24H0V0z\" fill=\"none\"/>\n",
              "    <path d=\"M18.56 5.44l.94 2.06.94-2.06 2.06-.94-2.06-.94-.94-2.06-.94 2.06-2.06.94zm-11 1L8.5 8.5l.94-2.06 2.06-.94-2.06-.94L8.5 2.5l-.94 2.06-2.06.94zm10 10l.94 2.06.94-2.06 2.06-.94-2.06-.94-.94-2.06-.94 2.06-2.06.94z\"/><path d=\"M17.41 7.96l-1.37-1.37c-.4-.4-.92-.59-1.43-.59-.52 0-1.04.2-1.43.59L10.3 9.45l-7.72 7.72c-.78.78-.78 2.05 0 2.83L4 21.41c.39.39.9.59 1.41.59.51 0 1.02-.2 1.41-.59l7.78-7.78 2.81-2.81c.8-.78.8-2.07 0-2.86zM5.41 20L4 18.59l7.72-7.72 1.47 1.35L5.41 20z\"/>\n",
              "  </svg>\n",
              "      </button>\n",
              "      \n",
              "  <style>\n",
              "    .colab-df-container {\n",
              "      display:flex;\n",
              "      flex-wrap:wrap;\n",
              "      gap: 12px;\n",
              "    }\n",
              "\n",
              "    .colab-df-convert {\n",
              "      background-color: #E8F0FE;\n",
              "      border: none;\n",
              "      border-radius: 50%;\n",
              "      cursor: pointer;\n",
              "      display: none;\n",
              "      fill: #1967D2;\n",
              "      height: 32px;\n",
              "      padding: 0 0 0 0;\n",
              "      width: 32px;\n",
              "    }\n",
              "\n",
              "    .colab-df-convert:hover {\n",
              "      background-color: #E2EBFA;\n",
              "      box-shadow: 0px 1px 2px rgba(60, 64, 67, 0.3), 0px 1px 3px 1px rgba(60, 64, 67, 0.15);\n",
              "      fill: #174EA6;\n",
              "    }\n",
              "\n",
              "    [theme=dark] .colab-df-convert {\n",
              "      background-color: #3B4455;\n",
              "      fill: #D2E3FC;\n",
              "    }\n",
              "\n",
              "    [theme=dark] .colab-df-convert:hover {\n",
              "      background-color: #434B5C;\n",
              "      box-shadow: 0px 1px 3px 1px rgba(0, 0, 0, 0.15);\n",
              "      filter: drop-shadow(0px 1px 2px rgba(0, 0, 0, 0.3));\n",
              "      fill: #FFFFFF;\n",
              "    }\n",
              "  </style>\n",
              "\n",
              "      <script>\n",
              "        const buttonEl =\n",
              "          document.querySelector('#df-994466f6-84ed-46fa-a927-56d434c58612 button.colab-df-convert');\n",
              "        buttonEl.style.display =\n",
              "          google.colab.kernel.accessAllowed ? 'block' : 'none';\n",
              "\n",
              "        async function convertToInteractive(key) {\n",
              "          const element = document.querySelector('#df-994466f6-84ed-46fa-a927-56d434c58612');\n",
              "          const dataTable =\n",
              "            await google.colab.kernel.invokeFunction('convertToInteractive',\n",
              "                                                     [key], {});\n",
              "          if (!dataTable) return;\n",
              "\n",
              "          const docLinkHtml = 'Like what you see? Visit the ' +\n",
              "            '<a target=\"_blank\" href=https://colab.research.google.com/notebooks/data_table.ipynb>data table notebook</a>'\n",
              "            + ' to learn more about interactive tables.';\n",
              "          element.innerHTML = '';\n",
              "          dataTable['output_type'] = 'display_data';\n",
              "          await google.colab.output.renderOutput(dataTable, element);\n",
              "          const docLink = document.createElement('div');\n",
              "          docLink.innerHTML = docLinkHtml;\n",
              "          element.appendChild(docLink);\n",
              "        }\n",
              "      </script>\n",
              "    </div>\n",
              "  </div>\n",
              "  "
            ]
          },
          "metadata": {},
          "execution_count": 2
        }
      ]
    },
    {
      "cell_type": "markdown",
      "source": [
        "# **3. Daten visualisieren**"
      ],
      "metadata": {
        "id": "KRtPcXs6IVAW"
      }
    },
    {
      "cell_type": "code",
      "source": [
        " X = np.array(X) # Typkonvertierung: DataFrame->Array  \n",
        " print(type(X))  \n",
        " # Daten visualisieren  \n",
        " plt.scatter(X[:,0], X[:,1],s=40);  \n",
        " plt.title('Raumklima-Daten als Scatter-Plot')  \n",
        " plt.xlabel('Feuchtigkeit (%)');plt.ylabel('Temperatur ()'); "
      ],
      "metadata": {
        "colab": {
          "base_uri": "https://localhost:8080/",
          "height": 318
        },
        "id": "wBlm-0E_ItKb",
        "outputId": "e7c50ef2-4e41-4ff6-8d16-41edff2b061d"
      },
      "execution_count": 3,
      "outputs": [
        {
          "output_type": "stream",
          "name": "stdout",
          "text": [
            "<class 'numpy.ndarray'>\n"
          ]
        },
        {
          "output_type": "display_data",
          "data": {
            "text/plain": [
              "<Figure size 432x288 with 1 Axes>"
            ],
            "image/png": "[encoded data removed]"
          },
          "metadata": {
            "needs_background": "light"
          }
        }
      ]
    },
    {
      "cell_type": "markdown",
      "source": [
        "# **4. Clusteranalyse durchführen**"
      ],
      "metadata": {
        "id": "P92iMaueIwDn"
      }
    },
    {
      "cell_type": "code",
      "source": [
        "plt.figure(figsize=(10, 7))\n",
        "plt.title(\"Dendrogramm\")\n",
        "dend = shc.dendrogram(shc.linkage(X, method='ward'))"
      ],
      "metadata": {
        "colab": {
          "base_uri": "https://localhost:8080/",
          "height": 450
        },
        "id": "vGm-iX60IzxZ",
        "outputId": "022304e2-146a-4534-e5dd-b8450eddfa54"
      },
      "execution_count": 5,
      "outputs": [
        {
          "output_type": "display_data",
          "data": {
            "text/plain": [
              "<Figure size 720x504 with 1 Axes>"
            ],
            "image/png": "[encoded data removed]"
          },
          "metadata": {
            "needs_background": "light"
          }
        }
      ]
    },
    {
      "cell_type": "markdown",
      "source": [
        "# **5. Detailierte Clusteranalyse (Agglomerativ)**"
      ],
      "metadata": {
        "id": "NteIQmuDLFiD"
      }
    },
    {
      "cell_type": "code",
      "source": [
        "# hierarchisches Modell festlegen, inkl. Anzahl der Cluster\n",
        "cluster = AgglomerativeClustering(n_clusters=3, affinity='euclidean', linkage='ward')\n",
        " \n",
        "# Vorhersage mittels des hierarchischen Modells\n",
        "cluster = cluster.fit(X)\n",
        "y_cluster = cluster.fit_predict(X)\n",
        " \n",
        "# vorhergesagte Zuordnungen der Merkmalskombinationen zu den geschätzten Zentren\n",
        "y_cluster #or:\n",
        "# print(cluster.labels_)"
      ],
      "metadata": {
        "colab": {
          "base_uri": "https://localhost:8080/"
        },
        "id": "Y3bK3xeKLKPU",
        "outputId": "00310586-2ead-4c4b-f15b-96d3214d2daf"
      },
      "execution_count": 7,
      "outputs": [
        {
          "output_type": "execute_result",
          "data": {
            "text/plain": [
              "array([0, 0, 0, 0, 0, 1, 1, 1, 1, 1, 2, 2, 2, 2, 2])"
            ]
          },
          "metadata": {},
          "execution_count": 7
        }
      ]
    },
    {
      "cell_type": "markdown",
      "source": [
        "# **6. Zuordnung der Daten zu den Clustern visualisieren**"
      ],
      "metadata": {
        "id": "8q2hrLisLV1A"
      }
    },
    {
      "cell_type": "code",
      "source": [
        "# Daten visualisieren: Merkmale\n",
        "plt.scatter(X[:, 0], X[:, 1], c=cluster.labels_, s=40, cmap='rainbow')\n",
        " \n",
        "plt.title(\"Raumklima\")\n",
        "plt.xlabel(\"Luftfeuchtigkeit(%)\")\n",
        "plt.ylabel(\"Temperatur(Celsius)\")"
      ],
      "metadata": {
        "colab": {
          "base_uri": "https://localhost:8080/",
          "height": 318
        },
        "id": "FNjv3DjpLeXW",
        "outputId": "9c0fa3c2-54b6-4bf0-a284-5926d45bd7a5"
      },
      "execution_count": 10,
      "outputs": [
        {
          "output_type": "execute_result",
          "data": {
            "text/plain": [
              "Text(0, 0.5, 'Temperatur(Celsius)')"
            ]
          },
          "metadata": {},
          "execution_count": 10
        },
        {
          "output_type": "display_data",
          "data": {
            "text/plain": [
              "<Figure size 432x288 with 1 Axes>"
            ],
            "image/png": "[encoded data removed]"
          },
          "metadata": {
            "needs_background": "light"
          }
        }
      ]
    }
  ]
}